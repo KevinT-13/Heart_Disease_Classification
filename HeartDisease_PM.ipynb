{
 "cells": [
  {
   "cell_type": "markdown",
   "id": "8fe578c8",
   "metadata": {
    "slideshow": {
     "slide_type": "slide"
    }
   },
   "source": [
    "<h1 style='color:white; background-color:darksalmon;margin:auto'>Heart Disease Data Set</h1>\n",
    "<p><b>Data set found from the Kaggle website, or by clicking on the following link:</b> \n",
    "    <br>\n",
    "    <a href=\"https://www.kaggle.com/datasets/kamilpytlak/personal-key-indicators-of-heart-disease?resource=download\" target=\"_blank\">www.kaggle.come/heart-disease</a></p>\n",
    "\n",
    "<hr>\n",
    "<h2 style='color:darksalmon'><u>Background Information</u></h2>\n",
    "<p>The purpose of the data set and study is to predict whether certain health indicators will lead to heart disease--and/or what are key indicators of heart disease in individuals. The heart disease data set has over 319795 observsations with the following columns. </p>"
   ]
  },
  {
   "cell_type": "code",
   "execution_count": 3,
   "id": "8450851e",
   "metadata": {
    "slideshow": {
     "slide_type": "slide"
    }
   },
   "outputs": [],
   "source": [
    "# pip install when necessary\n",
    "# importing libraries\n",
    "import pandas as pd\n",
    "import matplotlib.pyplot as plt\n",
    "import seaborn as sns\n",
    "import numpy as np\n",
    "from scipy import stats"
   ]
  },
  {
   "cell_type": "code",
   "execution_count": 4,
   "id": "a9c0c217",
   "metadata": {
    "slideshow": {
     "slide_type": "slide"
    }
   },
   "outputs": [
    {
     "name": "stdout",
     "output_type": "stream",
     "text": [
      "1.) HeartDisease\n",
      "2.) BMI\n",
      "3.) Smoking\n",
      "4.) AlcoholDrinking\n",
      "5.) Stroke\n",
      "6.) PhysicalHealth\n",
      "7.) MentalHealth\n",
      "8.) DiffWalking\n",
      "9.) Sex\n",
      "10.) AgeCategory\n",
      "11.) Race\n",
      "12.) Diabetic\n",
      "13.) PhysicalActivity\n",
      "14.) GenHealth\n",
      "15.) SleepTime\n",
      "16.) Asthma\n",
      "17.) KidneyDisease\n",
      "18.) SkinCancer\n",
      "\n",
      "Number of Observations: 319795 \n",
      "Number of Variables: 18\n"
     ]
    }
   ],
   "source": [
    "hd = pd.read_csv(\"heart_disease_df.csv\")\n",
    "columns = hd.columns\n",
    "shape = hd.shape \n",
    "for leng in range(0,len(columns)): \n",
    "        print('{}.) {}'.format(leng+1,columns[leng]))\n",
    "print(\"\\nNumber of Observations: {} \\nNumber of Variables: {}\".format(shape[0],shape[1]))"
   ]
  },
  {
   "cell_type": "markdown",
   "id": "1c33dd45",
   "metadata": {
    "slideshow": {
     "slide_type": "slide"
    }
   },
   "source": [
    "<hr>\n",
    "<h2 style='color:darksalmon'><u>Inspecting the Data:</u></h2>\n"
   ]
  },
  {
   "cell_type": "code",
   "execution_count": 83,
   "id": "dd67ab23",
   "metadata": {
    "slideshow": {
     "slide_type": "slide"
    }
   },
   "outputs": [
    {
     "data": {
      "text/html": [
       "<div>\n",
       "<style scoped>\n",
       "    .dataframe tbody tr th:only-of-type {\n",
       "        vertical-align: middle;\n",
       "    }\n",
       "\n",
       "    .dataframe tbody tr th {\n",
       "        vertical-align: top;\n",
       "    }\n",
       "\n",
       "    .dataframe thead th {\n",
       "        text-align: right;\n",
       "    }\n",
       "</style>\n",
       "<table border=\"1\" class=\"dataframe\">\n",
       "  <thead>\n",
       "    <tr style=\"text-align: right;\">\n",
       "      <th></th>\n",
       "      <th>HeartDisease</th>\n",
       "      <th>BMI</th>\n",
       "      <th>Smoking</th>\n",
       "      <th>AlcoholDrinking</th>\n",
       "      <th>Stroke</th>\n",
       "      <th>PhysicalHealth</th>\n",
       "      <th>MentalHealth</th>\n",
       "      <th>DiffWalking</th>\n",
       "      <th>Sex</th>\n",
       "      <th>AgeCategory</th>\n",
       "      <th>Race</th>\n",
       "      <th>Diabetic</th>\n",
       "      <th>PhysicalActivity</th>\n",
       "      <th>GenHealth</th>\n",
       "      <th>SleepTime</th>\n",
       "      <th>Asthma</th>\n",
       "      <th>KidneyDisease</th>\n",
       "      <th>SkinCancer</th>\n",
       "    </tr>\n",
       "  </thead>\n",
       "  <tbody>\n",
       "    <tr>\n",
       "      <th>0</th>\n",
       "      <td>No</td>\n",
       "      <td>16.60</td>\n",
       "      <td>Yes</td>\n",
       "      <td>No</td>\n",
       "      <td>No</td>\n",
       "      <td>3.0</td>\n",
       "      <td>30.0</td>\n",
       "      <td>No</td>\n",
       "      <td>Female</td>\n",
       "      <td>55-59</td>\n",
       "      <td>White</td>\n",
       "      <td>Yes</td>\n",
       "      <td>Yes</td>\n",
       "      <td>Very good</td>\n",
       "      <td>5.0</td>\n",
       "      <td>Yes</td>\n",
       "      <td>No</td>\n",
       "      <td>Yes</td>\n",
       "    </tr>\n",
       "    <tr>\n",
       "      <th>1</th>\n",
       "      <td>No</td>\n",
       "      <td>20.34</td>\n",
       "      <td>No</td>\n",
       "      <td>No</td>\n",
       "      <td>Yes</td>\n",
       "      <td>0.0</td>\n",
       "      <td>0.0</td>\n",
       "      <td>No</td>\n",
       "      <td>Female</td>\n",
       "      <td>80 or older</td>\n",
       "      <td>White</td>\n",
       "      <td>No</td>\n",
       "      <td>Yes</td>\n",
       "      <td>Very good</td>\n",
       "      <td>7.0</td>\n",
       "      <td>No</td>\n",
       "      <td>No</td>\n",
       "      <td>No</td>\n",
       "    </tr>\n",
       "    <tr>\n",
       "      <th>2</th>\n",
       "      <td>No</td>\n",
       "      <td>26.58</td>\n",
       "      <td>Yes</td>\n",
       "      <td>No</td>\n",
       "      <td>No</td>\n",
       "      <td>20.0</td>\n",
       "      <td>30.0</td>\n",
       "      <td>No</td>\n",
       "      <td>Male</td>\n",
       "      <td>65-69</td>\n",
       "      <td>White</td>\n",
       "      <td>Yes</td>\n",
       "      <td>Yes</td>\n",
       "      <td>Fair</td>\n",
       "      <td>8.0</td>\n",
       "      <td>Yes</td>\n",
       "      <td>No</td>\n",
       "      <td>No</td>\n",
       "    </tr>\n",
       "    <tr>\n",
       "      <th>3</th>\n",
       "      <td>No</td>\n",
       "      <td>24.21</td>\n",
       "      <td>No</td>\n",
       "      <td>No</td>\n",
       "      <td>No</td>\n",
       "      <td>0.0</td>\n",
       "      <td>0.0</td>\n",
       "      <td>No</td>\n",
       "      <td>Female</td>\n",
       "      <td>75-79</td>\n",
       "      <td>White</td>\n",
       "      <td>No</td>\n",
       "      <td>No</td>\n",
       "      <td>Good</td>\n",
       "      <td>6.0</td>\n",
       "      <td>No</td>\n",
       "      <td>No</td>\n",
       "      <td>Yes</td>\n",
       "    </tr>\n",
       "    <tr>\n",
       "      <th>4</th>\n",
       "      <td>No</td>\n",
       "      <td>23.71</td>\n",
       "      <td>No</td>\n",
       "      <td>No</td>\n",
       "      <td>No</td>\n",
       "      <td>28.0</td>\n",
       "      <td>0.0</td>\n",
       "      <td>Yes</td>\n",
       "      <td>Female</td>\n",
       "      <td>40-44</td>\n",
       "      <td>White</td>\n",
       "      <td>No</td>\n",
       "      <td>Yes</td>\n",
       "      <td>Very good</td>\n",
       "      <td>8.0</td>\n",
       "      <td>No</td>\n",
       "      <td>No</td>\n",
       "      <td>No</td>\n",
       "    </tr>\n",
       "    <tr>\n",
       "      <th>5</th>\n",
       "      <td>Yes</td>\n",
       "      <td>28.87</td>\n",
       "      <td>Yes</td>\n",
       "      <td>No</td>\n",
       "      <td>No</td>\n",
       "      <td>6.0</td>\n",
       "      <td>0.0</td>\n",
       "      <td>Yes</td>\n",
       "      <td>Female</td>\n",
       "      <td>75-79</td>\n",
       "      <td>Black</td>\n",
       "      <td>No</td>\n",
       "      <td>No</td>\n",
       "      <td>Fair</td>\n",
       "      <td>12.0</td>\n",
       "      <td>No</td>\n",
       "      <td>No</td>\n",
       "      <td>No</td>\n",
       "    </tr>\n",
       "    <tr>\n",
       "      <th>6</th>\n",
       "      <td>No</td>\n",
       "      <td>21.63</td>\n",
       "      <td>No</td>\n",
       "      <td>No</td>\n",
       "      <td>No</td>\n",
       "      <td>15.0</td>\n",
       "      <td>0.0</td>\n",
       "      <td>No</td>\n",
       "      <td>Female</td>\n",
       "      <td>70-74</td>\n",
       "      <td>White</td>\n",
       "      <td>No</td>\n",
       "      <td>Yes</td>\n",
       "      <td>Fair</td>\n",
       "      <td>4.0</td>\n",
       "      <td>Yes</td>\n",
       "      <td>No</td>\n",
       "      <td>Yes</td>\n",
       "    </tr>\n",
       "    <tr>\n",
       "      <th>7</th>\n",
       "      <td>No</td>\n",
       "      <td>31.64</td>\n",
       "      <td>Yes</td>\n",
       "      <td>No</td>\n",
       "      <td>No</td>\n",
       "      <td>5.0</td>\n",
       "      <td>0.0</td>\n",
       "      <td>Yes</td>\n",
       "      <td>Female</td>\n",
       "      <td>80 or older</td>\n",
       "      <td>White</td>\n",
       "      <td>Yes</td>\n",
       "      <td>No</td>\n",
       "      <td>Good</td>\n",
       "      <td>9.0</td>\n",
       "      <td>Yes</td>\n",
       "      <td>No</td>\n",
       "      <td>No</td>\n",
       "    </tr>\n",
       "    <tr>\n",
       "      <th>8</th>\n",
       "      <td>No</td>\n",
       "      <td>26.45</td>\n",
       "      <td>No</td>\n",
       "      <td>No</td>\n",
       "      <td>No</td>\n",
       "      <td>0.0</td>\n",
       "      <td>0.0</td>\n",
       "      <td>No</td>\n",
       "      <td>Female</td>\n",
       "      <td>80 or older</td>\n",
       "      <td>White</td>\n",
       "      <td>No, borderline diabetes</td>\n",
       "      <td>No</td>\n",
       "      <td>Fair</td>\n",
       "      <td>5.0</td>\n",
       "      <td>No</td>\n",
       "      <td>Yes</td>\n",
       "      <td>No</td>\n",
       "    </tr>\n",
       "    <tr>\n",
       "      <th>9</th>\n",
       "      <td>No</td>\n",
       "      <td>40.69</td>\n",
       "      <td>No</td>\n",
       "      <td>No</td>\n",
       "      <td>No</td>\n",
       "      <td>0.0</td>\n",
       "      <td>0.0</td>\n",
       "      <td>Yes</td>\n",
       "      <td>Male</td>\n",
       "      <td>65-69</td>\n",
       "      <td>White</td>\n",
       "      <td>No</td>\n",
       "      <td>Yes</td>\n",
       "      <td>Good</td>\n",
       "      <td>10.0</td>\n",
       "      <td>No</td>\n",
       "      <td>No</td>\n",
       "      <td>No</td>\n",
       "    </tr>\n",
       "  </tbody>\n",
       "</table>\n",
       "</div>"
      ],
      "text/plain": [
       "  HeartDisease    BMI Smoking AlcoholDrinking Stroke  PhysicalHealth  \\\n",
       "0           No  16.60     Yes              No     No             3.0   \n",
       "1           No  20.34      No              No    Yes             0.0   \n",
       "2           No  26.58     Yes              No     No            20.0   \n",
       "3           No  24.21      No              No     No             0.0   \n",
       "4           No  23.71      No              No     No            28.0   \n",
       "5          Yes  28.87     Yes              No     No             6.0   \n",
       "6           No  21.63      No              No     No            15.0   \n",
       "7           No  31.64     Yes              No     No             5.0   \n",
       "8           No  26.45      No              No     No             0.0   \n",
       "9           No  40.69      No              No     No             0.0   \n",
       "\n",
       "   MentalHealth DiffWalking     Sex  AgeCategory   Race  \\\n",
       "0          30.0          No  Female        55-59  White   \n",
       "1           0.0          No  Female  80 or older  White   \n",
       "2          30.0          No    Male        65-69  White   \n",
       "3           0.0          No  Female        75-79  White   \n",
       "4           0.0         Yes  Female        40-44  White   \n",
       "5           0.0         Yes  Female        75-79  Black   \n",
       "6           0.0          No  Female        70-74  White   \n",
       "7           0.0         Yes  Female  80 or older  White   \n",
       "8           0.0          No  Female  80 or older  White   \n",
       "9           0.0         Yes    Male        65-69  White   \n",
       "\n",
       "                  Diabetic PhysicalActivity  GenHealth  SleepTime Asthma  \\\n",
       "0                      Yes              Yes  Very good        5.0    Yes   \n",
       "1                       No              Yes  Very good        7.0     No   \n",
       "2                      Yes              Yes       Fair        8.0    Yes   \n",
       "3                       No               No       Good        6.0     No   \n",
       "4                       No              Yes  Very good        8.0     No   \n",
       "5                       No               No       Fair       12.0     No   \n",
       "6                       No              Yes       Fair        4.0    Yes   \n",
       "7                      Yes               No       Good        9.0    Yes   \n",
       "8  No, borderline diabetes               No       Fair        5.0     No   \n",
       "9                       No              Yes       Good       10.0     No   \n",
       "\n",
       "  KidneyDisease SkinCancer  \n",
       "0            No        Yes  \n",
       "1            No         No  \n",
       "2            No         No  \n",
       "3            No        Yes  \n",
       "4            No         No  \n",
       "5            No         No  \n",
       "6            No        Yes  \n",
       "7            No         No  \n",
       "8           Yes         No  \n",
       "9            No         No  "
      ]
     },
     "execution_count": 83,
     "metadata": {},
     "output_type": "execute_result"
    }
   ],
   "source": [
    "hd.head(10)"
   ]
  },
  {
   "cell_type": "code",
   "execution_count": 118,
   "id": "dfd27b84",
   "metadata": {
    "slideshow": {
     "slide_type": "slide"
    }
   },
   "outputs": [
    {
     "name": "stdout",
     "output_type": "stream",
     "text": [
      "\n",
      "HeartDisease         object\n",
      "BMI                 float64\n",
      "Smoking              object\n",
      "AlcoholDrinking      object\n",
      "Stroke               object\n",
      "PhysicalHealth      float64\n",
      "MentalHealth        float64\n",
      "DiffWalking          object\n",
      "Sex                  object\n",
      "AgeCategory          object\n",
      "Race                 object\n",
      "Diabetic             object\n",
      "PhysicalActivity     object\n",
      "GenHealth            object\n",
      "SleepTime           float64\n",
      "Asthma               object\n",
      "KidneyDisease        object\n",
      "SkinCancer           object\n",
      "dtype: object \n",
      "\n",
      "Number of Columns Not Missing Values: 18\n"
     ]
    }
   ],
   "source": [
    "# Checking data types of each variable\n",
    "#hd.info() could be done instead, but I prefer the below method because its more clean\n",
    "print('\\n{} \\n\\nNumber of Columns Not Missing Values: {}'.format(hd.dtypes,hd.isna().any().value_counts()[0]))\n",
    "# hd.dropna(subset=[\"HeartDisease\"], inplace=True) #we would want to do for the target variable when observation misses the target"
   ]
  },
  {
   "cell_type": "markdown",
   "id": "0c356f6d",
   "metadata": {
    "slideshow": {
     "slide_type": "slide"
    }
   },
   "source": [
    "<p style='color:darksalmon;'><i>Going to need to transform certain variables into categoricals. The check necessary for this can be found below:</i></p>"
   ]
  },
  {
   "cell_type": "code",
   "execution_count": 3,
   "id": "3e40006a",
   "metadata": {
    "slideshow": {
     "slide_type": "slide"
    }
   },
   "outputs": [
    {
     "name": "stdout",
     "output_type": "stream",
     "text": [
      "HeartDisease\n",
      "['No' 'Yes'] \n",
      "\n",
      "BMI\n",
      "[16.6  20.34 26.58 ... 62.42 51.46 46.56] \n",
      "\n",
      "Smoking\n",
      "['Yes' 'No'] \n",
      "\n",
      "AlcoholDrinking\n",
      "['No' 'Yes'] \n",
      "\n",
      "Stroke\n",
      "['No' 'Yes'] \n",
      "\n",
      "PhysicalHealth\n",
      "[ 3.  0. 20. 28.  6. 15.  5. 30.  7.  1.  2. 21.  4. 10. 14. 18.  8. 25.\n",
      " 16. 29. 27. 17. 24. 12. 23. 26. 22. 19.  9. 13. 11.] \n",
      "\n",
      "MentalHealth\n",
      "[30.  0.  2.  5. 15.  8.  4.  3. 10. 14. 20.  1.  7. 24.  9. 28. 16. 12.\n",
      "  6. 25. 17. 18. 21. 29. 22. 13. 23. 27. 26. 11. 19.] \n",
      "\n",
      "DiffWalking\n",
      "['No' 'Yes'] \n",
      "\n",
      "Sex\n",
      "['Female' 'Male'] \n",
      "\n",
      "AgeCategory\n",
      "['55-59' '80 or older' '65-69' '75-79' '40-44' '70-74' '60-64' '50-54'\n",
      " '45-49' '18-24' '35-39' '30-34' '25-29'] \n",
      "\n",
      "Race\n",
      "['White' 'Black' 'Asian' 'American Indian/Alaskan Native' 'Other'\n",
      " 'Hispanic'] \n",
      "\n",
      "Diabetic\n",
      "['Yes' 'No' 'No, borderline diabetes' 'Yes (during pregnancy)'] \n",
      "\n",
      "PhysicalActivity\n",
      "['Yes' 'No'] \n",
      "\n",
      "GenHealth\n",
      "['Very good' 'Fair' 'Good' 'Poor' 'Excellent'] \n",
      "\n",
      "SleepTime\n",
      "[ 5.  7.  8.  6. 12.  4.  9. 10. 15.  3.  2.  1. 16. 18. 14. 20. 11. 13.\n",
      " 17. 24. 19. 21. 22. 23.] \n",
      "\n",
      "Asthma\n",
      "['Yes' 'No'] \n",
      "\n",
      "KidneyDisease\n",
      "['No' 'Yes'] \n",
      "\n",
      "SkinCancer\n",
      "['Yes' 'No'] \n",
      "\n"
     ]
    }
   ],
   "source": [
    "for feature in hd.columns: # checking each variable for whether or not its gonna be a categorical\n",
    "    print(feature)\n",
    "    print(hd[feature].unique(),\"\\n\")"
   ]
  },
  {
   "cell_type": "code",
   "execution_count": 118,
   "id": "d2d44cb1",
   "metadata": {
    "slideshow": {
     "slide_type": "slide"
    }
   },
   "outputs": [
    {
     "data": {
      "text/html": [
       "<div>\n",
       "<style scoped>\n",
       "    .dataframe tbody tr th:only-of-type {\n",
       "        vertical-align: middle;\n",
       "    }\n",
       "\n",
       "    .dataframe tbody tr th {\n",
       "        vertical-align: top;\n",
       "    }\n",
       "\n",
       "    .dataframe thead th {\n",
       "        text-align: right;\n",
       "    }\n",
       "</style>\n",
       "<table border=\"1\" class=\"dataframe\">\n",
       "  <thead>\n",
       "    <tr style=\"text-align: right;\">\n",
       "      <th></th>\n",
       "      <th>BMI</th>\n",
       "      <th>PhysicalHealth</th>\n",
       "      <th>MentalHealth</th>\n",
       "      <th>SleepTime</th>\n",
       "    </tr>\n",
       "  </thead>\n",
       "  <tbody>\n",
       "    <tr>\n",
       "      <th>count</th>\n",
       "      <td>319795.000000</td>\n",
       "      <td>319795.00000</td>\n",
       "      <td>319795.000000</td>\n",
       "      <td>319795.000000</td>\n",
       "    </tr>\n",
       "    <tr>\n",
       "      <th>mean</th>\n",
       "      <td>28.325399</td>\n",
       "      <td>3.37171</td>\n",
       "      <td>3.898366</td>\n",
       "      <td>7.097075</td>\n",
       "    </tr>\n",
       "    <tr>\n",
       "      <th>std</th>\n",
       "      <td>6.356100</td>\n",
       "      <td>7.95085</td>\n",
       "      <td>7.955235</td>\n",
       "      <td>1.436007</td>\n",
       "    </tr>\n",
       "    <tr>\n",
       "      <th>min</th>\n",
       "      <td>12.020000</td>\n",
       "      <td>0.00000</td>\n",
       "      <td>0.000000</td>\n",
       "      <td>1.000000</td>\n",
       "    </tr>\n",
       "    <tr>\n",
       "      <th>25%</th>\n",
       "      <td>24.030000</td>\n",
       "      <td>0.00000</td>\n",
       "      <td>0.000000</td>\n",
       "      <td>6.000000</td>\n",
       "    </tr>\n",
       "    <tr>\n",
       "      <th>50%</th>\n",
       "      <td>27.340000</td>\n",
       "      <td>0.00000</td>\n",
       "      <td>0.000000</td>\n",
       "      <td>7.000000</td>\n",
       "    </tr>\n",
       "    <tr>\n",
       "      <th>75%</th>\n",
       "      <td>31.420000</td>\n",
       "      <td>2.00000</td>\n",
       "      <td>3.000000</td>\n",
       "      <td>8.000000</td>\n",
       "    </tr>\n",
       "    <tr>\n",
       "      <th>max</th>\n",
       "      <td>94.850000</td>\n",
       "      <td>30.00000</td>\n",
       "      <td>30.000000</td>\n",
       "      <td>24.000000</td>\n",
       "    </tr>\n",
       "  </tbody>\n",
       "</table>\n",
       "</div>"
      ],
      "text/plain": [
       "                 BMI  PhysicalHealth   MentalHealth      SleepTime\n",
       "count  319795.000000    319795.00000  319795.000000  319795.000000\n",
       "mean       28.325399         3.37171       3.898366       7.097075\n",
       "std         6.356100         7.95085       7.955235       1.436007\n",
       "min        12.020000         0.00000       0.000000       1.000000\n",
       "25%        24.030000         0.00000       0.000000       6.000000\n",
       "50%        27.340000         0.00000       0.000000       7.000000\n",
       "75%        31.420000         2.00000       3.000000       8.000000\n",
       "max        94.850000        30.00000      30.000000      24.000000"
      ]
     },
     "execution_count": 118,
     "metadata": {},
     "output_type": "execute_result"
    }
   ],
   "source": [
    "hd.describe() #basic stats for numerical. I can clearly see that the only true numerical val is BMI (continuous)"
   ]
  },
  {
   "cell_type": "code",
   "execution_count": 191,
   "id": "e15f76af",
   "metadata": {},
   "outputs": [
    {
     "data": {
      "image/png": "[encoded data removed]",
      "text/plain": [
       "<Figure size 1440x1080 with 4 Axes>"
      ]
     },
     "metadata": {},
     "output_type": "display_data"
    }
   ],
   "source": [
    "# Interesting variables based on my first assumptions\n",
    "vari = hd[['GenHealth','Diabetic','Race','AgeCategory']]\n",
    "# for feature in range(0,len(vari)):\n",
    "#     fig, axes = plt.subplots(nrows=1, ncols=4, figsize=(5, 3))\n",
    "#     axes[feature].hist(hd.iloc[:,feature])\n",
    "position_index = [(0,0),(0,1),(1,0),(1,1)]\n",
    "fig,axes = plt.subplots(2,2,figsize=(20,15))\n",
    "\n",
    "for position, feature in zip(position_index, vari):\n",
    "    sns.histplot(ax=axes[position],y=hd.loc[:,feature], color='darksalmon')\n",
    "    axes[position].set_title(feature)\n",
    "        \n",
    "fig.tight_layout()\n",
    "plt.show()\n",
    "    "
   ]
  },
  {
   "cell_type": "markdown",
   "id": "38897b13",
   "metadata": {
    "slideshow": {
     "slide_type": "slide"
    }
   },
   "source": [
    "<hr>\n",
    "<h2 style='color:darksalmon'><u>Handling Categorical Values:</u></h2>\n",
    "    <p>Every column except BMI will be transformed into a <b>categorical type</b>. This is because machine learning methods tend to work more effectively with numerical inputs(ML doesn't do well with non-numerical inputs). I am choosing to do the Ordinal version of categorical transformations as to save run time and decrease the number of  potential features for the predictive model--a balancing act in a sense.</p>"
   ]
  },
  {
   "cell_type": "code",
   "execution_count": 5,
   "id": "63546313",
   "metadata": {
    "slideshow": {
     "slide_type": "slide"
    }
   },
   "outputs": [],
   "source": [
    "#pip install sklearn\n",
    "from sklearn.preprocessing import OrdinalEncoder, OneHotEncoder\n",
    "from sklearn.compose import ColumnTransformer"
   ]
  },
  {
   "cell_type": "code",
   "execution_count": 6,
   "id": "c0e3841d",
   "metadata": {
    "slideshow": {
     "slide_type": "slide"
    }
   },
   "outputs": [],
   "source": [
    "# hd_Ordcat = list(hd.columns[~hd.columns.isin([\"BMI\",\"AgeCategory\",\"Diabetic\",\"GenHealth\"])])\n",
    "hd_cat = list(hd.loc[:, hd.columns != 'BMI'].columns)\n",
    "\n",
    "\n",
    "full_pipline = ColumnTransformer([\n",
    "    (\"ordinal\", OrdinalEncoder(), hd_cat)\n",
    "#     (\"onehot\", OneHotEncoder(), hd_Hotcat)\n",
    "])\n",
    "    \n",
    "hd_prep = hd.copy()\n",
    "hd_prep[hd_cat] = full_pipline.fit_transform(hd)\n",
    "hd_prep = pd.DataFrame(hd_prep)\n",
    "\n"
   ]
  },
  {
   "cell_type": "markdown",
   "id": "73a9e9c5",
   "metadata": {},
   "source": [
    "<p style='color:darksalmon;'><i>We use 'OrdinalEncoder' to get 'yes','no' into a binary state. In addition, when looking at categories that aren't simply transformable into the ordinary 0,1 binary layout, we see a variety of levels. For instance, looking at the 'AgeCategory' we see that the max level is 12, while the lowest is 0. After careful examination, we can see that the levels range from 0-12, 0 being the 18-24 age range, and 12 being 80 years and older. In other words, the OrdinalEncoder sorted values prior to commiting the categorical transformations.</i></p>"
   ]
  },
  {
   "cell_type": "code",
   "execution_count": 84,
   "id": "28558df2",
   "metadata": {
    "slideshow": {
     "slide_type": "slide"
    }
   },
   "outputs": [
    {
     "data": {
      "text/html": [
       "<div>\n",
       "<style scoped>\n",
       "    .dataframe tbody tr th:only-of-type {\n",
       "        vertical-align: middle;\n",
       "    }\n",
       "\n",
       "    .dataframe tbody tr th {\n",
       "        vertical-align: top;\n",
       "    }\n",
       "\n",
       "    .dataframe thead th {\n",
       "        text-align: right;\n",
       "    }\n",
       "</style>\n",
       "<table border=\"1\" class=\"dataframe\">\n",
       "  <thead>\n",
       "    <tr style=\"text-align: right;\">\n",
       "      <th></th>\n",
       "      <th>HeartDisease</th>\n",
       "      <th>BMI</th>\n",
       "      <th>Smoking</th>\n",
       "      <th>AlcoholDrinking</th>\n",
       "      <th>Stroke</th>\n",
       "      <th>PhysicalHealth</th>\n",
       "      <th>MentalHealth</th>\n",
       "      <th>DiffWalking</th>\n",
       "      <th>Sex</th>\n",
       "      <th>AgeCategory</th>\n",
       "      <th>Race</th>\n",
       "      <th>Diabetic</th>\n",
       "      <th>PhysicalActivity</th>\n",
       "      <th>GenHealth</th>\n",
       "      <th>SleepTime</th>\n",
       "      <th>Asthma</th>\n",
       "      <th>KidneyDisease</th>\n",
       "      <th>SkinCancer</th>\n",
       "    </tr>\n",
       "  </thead>\n",
       "  <tbody>\n",
       "    <tr>\n",
       "      <th>0</th>\n",
       "      <td>0.0</td>\n",
       "      <td>16.60</td>\n",
       "      <td>1.0</td>\n",
       "      <td>0.0</td>\n",
       "      <td>0.0</td>\n",
       "      <td>3.0</td>\n",
       "      <td>30.0</td>\n",
       "      <td>0.0</td>\n",
       "      <td>0.0</td>\n",
       "      <td>7.0</td>\n",
       "      <td>5.0</td>\n",
       "      <td>2.0</td>\n",
       "      <td>1.0</td>\n",
       "      <td>4.0</td>\n",
       "      <td>4.0</td>\n",
       "      <td>1.0</td>\n",
       "      <td>0.0</td>\n",
       "      <td>1.0</td>\n",
       "    </tr>\n",
       "    <tr>\n",
       "      <th>1</th>\n",
       "      <td>0.0</td>\n",
       "      <td>20.34</td>\n",
       "      <td>0.0</td>\n",
       "      <td>0.0</td>\n",
       "      <td>1.0</td>\n",
       "      <td>0.0</td>\n",
       "      <td>0.0</td>\n",
       "      <td>0.0</td>\n",
       "      <td>0.0</td>\n",
       "      <td>12.0</td>\n",
       "      <td>5.0</td>\n",
       "      <td>0.0</td>\n",
       "      <td>1.0</td>\n",
       "      <td>4.0</td>\n",
       "      <td>6.0</td>\n",
       "      <td>0.0</td>\n",
       "      <td>0.0</td>\n",
       "      <td>0.0</td>\n",
       "    </tr>\n",
       "    <tr>\n",
       "      <th>2</th>\n",
       "      <td>0.0</td>\n",
       "      <td>26.58</td>\n",
       "      <td>1.0</td>\n",
       "      <td>0.0</td>\n",
       "      <td>0.0</td>\n",
       "      <td>20.0</td>\n",
       "      <td>30.0</td>\n",
       "      <td>0.0</td>\n",
       "      <td>1.0</td>\n",
       "      <td>9.0</td>\n",
       "      <td>5.0</td>\n",
       "      <td>2.0</td>\n",
       "      <td>1.0</td>\n",
       "      <td>1.0</td>\n",
       "      <td>7.0</td>\n",
       "      <td>1.0</td>\n",
       "      <td>0.0</td>\n",
       "      <td>0.0</td>\n",
       "    </tr>\n",
       "    <tr>\n",
       "      <th>3</th>\n",
       "      <td>0.0</td>\n",
       "      <td>24.21</td>\n",
       "      <td>0.0</td>\n",
       "      <td>0.0</td>\n",
       "      <td>0.0</td>\n",
       "      <td>0.0</td>\n",
       "      <td>0.0</td>\n",
       "      <td>0.0</td>\n",
       "      <td>0.0</td>\n",
       "      <td>11.0</td>\n",
       "      <td>5.0</td>\n",
       "      <td>0.0</td>\n",
       "      <td>0.0</td>\n",
       "      <td>2.0</td>\n",
       "      <td>5.0</td>\n",
       "      <td>0.0</td>\n",
       "      <td>0.0</td>\n",
       "      <td>1.0</td>\n",
       "    </tr>\n",
       "    <tr>\n",
       "      <th>4</th>\n",
       "      <td>0.0</td>\n",
       "      <td>23.71</td>\n",
       "      <td>0.0</td>\n",
       "      <td>0.0</td>\n",
       "      <td>0.0</td>\n",
       "      <td>28.0</td>\n",
       "      <td>0.0</td>\n",
       "      <td>1.0</td>\n",
       "      <td>0.0</td>\n",
       "      <td>4.0</td>\n",
       "      <td>5.0</td>\n",
       "      <td>0.0</td>\n",
       "      <td>1.0</td>\n",
       "      <td>4.0</td>\n",
       "      <td>7.0</td>\n",
       "      <td>0.0</td>\n",
       "      <td>0.0</td>\n",
       "      <td>0.0</td>\n",
       "    </tr>\n",
       "    <tr>\n",
       "      <th>5</th>\n",
       "      <td>1.0</td>\n",
       "      <td>28.87</td>\n",
       "      <td>1.0</td>\n",
       "      <td>0.0</td>\n",
       "      <td>0.0</td>\n",
       "      <td>6.0</td>\n",
       "      <td>0.0</td>\n",
       "      <td>1.0</td>\n",
       "      <td>0.0</td>\n",
       "      <td>11.0</td>\n",
       "      <td>2.0</td>\n",
       "      <td>0.0</td>\n",
       "      <td>0.0</td>\n",
       "      <td>1.0</td>\n",
       "      <td>11.0</td>\n",
       "      <td>0.0</td>\n",
       "      <td>0.0</td>\n",
       "      <td>0.0</td>\n",
       "    </tr>\n",
       "    <tr>\n",
       "      <th>6</th>\n",
       "      <td>0.0</td>\n",
       "      <td>21.63</td>\n",
       "      <td>0.0</td>\n",
       "      <td>0.0</td>\n",
       "      <td>0.0</td>\n",
       "      <td>15.0</td>\n",
       "      <td>0.0</td>\n",
       "      <td>0.0</td>\n",
       "      <td>0.0</td>\n",
       "      <td>10.0</td>\n",
       "      <td>5.0</td>\n",
       "      <td>0.0</td>\n",
       "      <td>1.0</td>\n",
       "      <td>1.0</td>\n",
       "      <td>3.0</td>\n",
       "      <td>1.0</td>\n",
       "      <td>0.0</td>\n",
       "      <td>1.0</td>\n",
       "    </tr>\n",
       "    <tr>\n",
       "      <th>7</th>\n",
       "      <td>0.0</td>\n",
       "      <td>31.64</td>\n",
       "      <td>1.0</td>\n",
       "      <td>0.0</td>\n",
       "      <td>0.0</td>\n",
       "      <td>5.0</td>\n",
       "      <td>0.0</td>\n",
       "      <td>1.0</td>\n",
       "      <td>0.0</td>\n",
       "      <td>12.0</td>\n",
       "      <td>5.0</td>\n",
       "      <td>2.0</td>\n",
       "      <td>0.0</td>\n",
       "      <td>2.0</td>\n",
       "      <td>8.0</td>\n",
       "      <td>1.0</td>\n",
       "      <td>0.0</td>\n",
       "      <td>0.0</td>\n",
       "    </tr>\n",
       "    <tr>\n",
       "      <th>8</th>\n",
       "      <td>0.0</td>\n",
       "      <td>26.45</td>\n",
       "      <td>0.0</td>\n",
       "      <td>0.0</td>\n",
       "      <td>0.0</td>\n",
       "      <td>0.0</td>\n",
       "      <td>0.0</td>\n",
       "      <td>0.0</td>\n",
       "      <td>0.0</td>\n",
       "      <td>12.0</td>\n",
       "      <td>5.0</td>\n",
       "      <td>1.0</td>\n",
       "      <td>0.0</td>\n",
       "      <td>1.0</td>\n",
       "      <td>4.0</td>\n",
       "      <td>0.0</td>\n",
       "      <td>1.0</td>\n",
       "      <td>0.0</td>\n",
       "    </tr>\n",
       "    <tr>\n",
       "      <th>9</th>\n",
       "      <td>0.0</td>\n",
       "      <td>40.69</td>\n",
       "      <td>0.0</td>\n",
       "      <td>0.0</td>\n",
       "      <td>0.0</td>\n",
       "      <td>0.0</td>\n",
       "      <td>0.0</td>\n",
       "      <td>1.0</td>\n",
       "      <td>1.0</td>\n",
       "      <td>9.0</td>\n",
       "      <td>5.0</td>\n",
       "      <td>0.0</td>\n",
       "      <td>1.0</td>\n",
       "      <td>2.0</td>\n",
       "      <td>9.0</td>\n",
       "      <td>0.0</td>\n",
       "      <td>0.0</td>\n",
       "      <td>0.0</td>\n",
       "    </tr>\n",
       "  </tbody>\n",
       "</table>\n",
       "</div>"
      ],
      "text/plain": [
       "   HeartDisease    BMI  Smoking  AlcoholDrinking  Stroke  PhysicalHealth  \\\n",
       "0           0.0  16.60      1.0              0.0     0.0             3.0   \n",
       "1           0.0  20.34      0.0              0.0     1.0             0.0   \n",
       "2           0.0  26.58      1.0              0.0     0.0            20.0   \n",
       "3           0.0  24.21      0.0              0.0     0.0             0.0   \n",
       "4           0.0  23.71      0.0              0.0     0.0            28.0   \n",
       "5           1.0  28.87      1.0              0.0     0.0             6.0   \n",
       "6           0.0  21.63      0.0              0.0     0.0            15.0   \n",
       "7           0.0  31.64      1.0              0.0     0.0             5.0   \n",
       "8           0.0  26.45      0.0              0.0     0.0             0.0   \n",
       "9           0.0  40.69      0.0              0.0     0.0             0.0   \n",
       "\n",
       "   MentalHealth  DiffWalking  Sex  AgeCategory  Race  Diabetic  \\\n",
       "0          30.0          0.0  0.0          7.0   5.0       2.0   \n",
       "1           0.0          0.0  0.0         12.0   5.0       0.0   \n",
       "2          30.0          0.0  1.0          9.0   5.0       2.0   \n",
       "3           0.0          0.0  0.0         11.0   5.0       0.0   \n",
       "4           0.0          1.0  0.0          4.0   5.0       0.0   \n",
       "5           0.0          1.0  0.0         11.0   2.0       0.0   \n",
       "6           0.0          0.0  0.0         10.0   5.0       0.0   \n",
       "7           0.0          1.0  0.0         12.0   5.0       2.0   \n",
       "8           0.0          0.0  0.0         12.0   5.0       1.0   \n",
       "9           0.0          1.0  1.0          9.0   5.0       0.0   \n",
       "\n",
       "   PhysicalActivity  GenHealth  SleepTime  Asthma  KidneyDisease  SkinCancer  \n",
       "0               1.0        4.0        4.0     1.0            0.0         1.0  \n",
       "1               1.0        4.0        6.0     0.0            0.0         0.0  \n",
       "2               1.0        1.0        7.0     1.0            0.0         0.0  \n",
       "3               0.0        2.0        5.0     0.0            0.0         1.0  \n",
       "4               1.0        4.0        7.0     0.0            0.0         0.0  \n",
       "5               0.0        1.0       11.0     0.0            0.0         0.0  \n",
       "6               1.0        1.0        3.0     1.0            0.0         1.0  \n",
       "7               0.0        2.0        8.0     1.0            0.0         0.0  \n",
       "8               0.0        1.0        4.0     0.0            1.0         0.0  \n",
       "9               1.0        2.0        9.0     0.0            0.0         0.0  "
      ]
     },
     "execution_count": 84,
     "metadata": {},
     "output_type": "execute_result"
    }
   ],
   "source": [
    "hd_prep.head(10)"
   ]
  },
  {
   "cell_type": "markdown",
   "id": "62d9dfa9",
   "metadata": {
    "slideshow": {
     "slide_type": "slide"
    }
   },
   "source": [
    "<hr>\n",
    "<h2 style='color:darksalmon'><u>Exploratory Data Analysis (EDA):</u></h2>\n",
    "<p>Looking at the dependent variable also known as the target variable. We also want to look at the relationships and assumptions, whereby we see whether or not other variables have strong relationships with one another (whether that be indepedent variables or dependent variables). In other words, we can check early on for multicolinearity and experimental bais (data validation).</p>"
   ]
  },
  {
   "cell_type": "code",
   "execution_count": 93,
   "id": "9f010385",
   "metadata": {
    "slideshow": {
     "slide_type": "slide"
    }
   },
   "outputs": [
    {
     "data": {
      "text/plain": [
       "HeartDisease\n",
       "No              0.914405\n",
       "Yes             0.085595\n",
       "dtype: float64"
      ]
     },
     "execution_count": 93,
     "metadata": {},
     "output_type": "execute_result"
    }
   ],
   "source": [
    "#hd[['HeartDisease','Stroke']].value_counts(normalize=True)\n",
    "hd[['HeartDisease']].value_counts(normalize=True)\n",
    "#hd[['Stroke']].value_counts(normalize=True)"
   ]
  },
  {
   "cell_type": "code",
   "execution_count": 174,
   "id": "b77270c2",
   "metadata": {
    "slideshow": {
     "slide_type": "slide"
    }
   },
   "outputs": [
    {
     "data": {
      "image/png": "[encoded data removed]",
      "text/plain": [
       "<Figure size 432x288 with 1 Axes>"
      ]
     },
     "metadata": {},
     "output_type": "display_data"
    }
   ],
   "source": [
    "sns.histplot(data=hd, x='HeartDisease', kde=False, color='darksalmon')\n",
    "plt.title(\"Freqency of Heart Disease Categories\")\n",
    "plt.show()"
   ]
  },
  {
   "cell_type": "markdown",
   "id": "ff48159b",
   "metadata": {
    "slideshow": {
     "slide_type": "slide"
    }
   },
   "source": [
    "<p style='color:darksalmon;'><i>Very low probability of Heart Disease = Yes</i></p>"
   ]
  },
  {
   "cell_type": "code",
   "execution_count": 169,
   "id": "b5470629",
   "metadata": {
    "slideshow": {
     "slide_type": "slide"
    }
   },
   "outputs": [
    {
     "data": {
      "text/plain": [
       "HeartDisease        1.000000\n",
       "AgeCategory         0.233432\n",
       "DiffWalking         0.201258\n",
       "Stroke              0.196835\n",
       "PhysicalHealth      0.170721\n",
       "Diabetic            0.168553\n",
       "KidneyDisease       0.145197\n",
       "Smoking             0.107764\n",
       "SkinCancer          0.093317\n",
       "Sex                 0.070040\n",
       "BMI                 0.051803\n",
       "Asthma              0.041444\n",
       "Race                0.034854\n",
       "MentalHealth        0.028591\n",
       "SleepTime           0.008327\n",
       "GenHealth          -0.011062\n",
       "AlcoholDrinking    -0.032080\n",
       "PhysicalActivity   -0.100030\n",
       "Name: HeartDisease, dtype: float64"
      ]
     },
     "execution_count": 169,
     "metadata": {},
     "output_type": "execute_result"
    }
   ],
   "source": [
    "hd_comat = hd_prep.corr() #Numeric only \n",
    "# hd_comat['HeartDisease']\n",
    "hd_comat['HeartDisease'].sort_values(ascending=False)"
   ]
  },
  {
   "cell_type": "code",
   "execution_count": 116,
   "id": "f23d520b",
   "metadata": {
    "slideshow": {
     "slide_type": "slide"
    }
   },
   "outputs": [
    {
     "data": {
      "image/png": "[encoded data removed]",
      "text/plain": [
       "<Figure size 432x288 with 2 Axes>"
      ]
     },
     "metadata": {},
     "output_type": "display_data"
    }
   ],
   "source": [
    "sns.heatmap(hd_prep.corr(), \n",
    "annot = False, fmt = '.2g', vmin=-1, vmax=1,center=0,linewidths=2, cmap = 'coolwarm_r', \n",
    "mask = np.triu(hd_prep.corr()))\n",
    "plt.title('Heatmap of Variable Correlations')\n",
    "plt.show()"
   ]
  },
  {
   "cell_type": "markdown",
   "id": "b6dba06b",
   "metadata": {},
   "source": [
    "<p style='color:darksalmon;'><i>Based on the heatmap--or Pearson corr matrix--and hd_comat, we can see that AgeCategory and a couple other variables are somewhat correlated with the target variable HeartDisease. We can also see that there may be cofounding or multicolinearity problems as there are variables (diffwalking and physicalhealth) that seem to be moderately correlated. </i></p>"
   ]
  },
  {
   "cell_type": "code",
   "execution_count": 12,
   "id": "a28bf88d",
   "metadata": {
    "slideshow": {
     "slide_type": "slide"
    }
   },
   "outputs": [
    {
     "data": {
      "image/png": "[encoded data removed]",
      "text/plain": [
       "<Figure size 720x360 with 2 Axes>"
      ]
     },
     "metadata": {},
     "output_type": "display_data"
    }
   ],
   "source": [
    "fig, axes = plt.subplots(1,2, figsize=(10,5))\n",
    "sns.barplot(ax=axes[0],x=\"HeartDisease\", y='BMI', data=hd_prep)\n",
    "sns.set_theme(style=\"darkgrid\")\n",
    "axes[0].set_title('Heart Disease vs. BMI')\n",
    "\n",
    "sns.barplot(ax=axes[1],x=\"HeartDisease\", y='Race', data=hd_prep)\n",
    "sns.set_theme(style=\"darkgrid\")\n",
    "axes[1].set_title('Heart Disease vs. Race')\n",
    "plt.ylim([0, 15])   \n",
    "fig.tight_layout()\n",
    "plt.show()"
   ]
  },
  {
   "cell_type": "code",
   "execution_count": 148,
   "id": "3b43660a",
   "metadata": {
    "slideshow": {
     "slide_type": "slide"
    }
   },
   "outputs": [],
   "source": [
    "# sns.catplot(y=\"AgeCategory\", x='HeartDisease', hue='Stroke',data=hd_prep, kind=\"point\") \n",
    "# plt.show()"
   ]
  },
  {
   "cell_type": "code",
   "execution_count": 100,
   "id": "dfd11a1c",
   "metadata": {
    "slideshow": {
     "slide_type": "slide"
    }
   },
   "outputs": [
    {
     "data": {
      "image/png": "[encoded data removed]",
      "text/plain": [
       "<Figure size 1440x1080 with 6 Axes>"
      ]
     },
     "metadata": {
      "needs_background": "light"
     },
     "output_type": "display_data"
    }
   ],
   "source": [
    "# pip install statsmodels \n",
    "# fig, ax = plt.subplots()\n",
    "\n",
    "# sns.kdeplot(hd_prep[hd_prep[\"HeartDisease\"]==0][\"AgeCategory\"], shade=True, color=\"blue\", label=\"No Heart Disease\", ax=ax, alpha=0.10)\n",
    "# sns.kdeplot(hd_prep[hd_prep[\"HeartDisease\"]==1][\"AgeCategory\"], shade=True, color=\"orange\", label=\"Heart Disease\", ax=ax, alpha=0.10)\n",
    "# # sns.kdeplot(df[df[\"Survived\"]==0][\"Age\"], shade=True, color=\"green\", label=\"did not survive\", ax=ax)\n",
    "\n",
    "# ax.set_xlabel(\"Age Category\")\n",
    "# ax.set_ylabel(\"Density\")\n",
    "# plt.legend(loc='upper left')\n",
    "# fig.suptitle(\"Age vs. Heart Disease\");\n",
    "vari = hd[['AgeCategory','DiffWalking','Stroke','PhysicalHealth','Diabetic', 'KidneyDisease']]\n",
    "position_index = [(0,0),(0,1),(1,0),(1,1),(2,0),(2,1)]\n",
    "fig,axes = plt.subplots(3,2,figsize=(20,15))\n",
    "\n",
    "for position, feature in zip(position_index, vari):\n",
    "    set1 = hd_prep[hd_prep[\"HeartDisease\"]==0][feature]\n",
    "    set2 = hd_prep[hd_prep[\"HeartDisease\"]==1][feature]\n",
    "    sns.kdeplot(ax=axes[position], x=set1.loc[:], shade=True, color=\"blue\", label=\"No Heart Disease\", alpha=0.10)\n",
    "    sns.kdeplot(ax=axes[position], x=set2.loc[:], shade=True, color=\"orange\", label=\"Heart Disease\", alpha=0.10)\n",
    "#     plt.legend(loc='best')\n",
    "    axes[position].set_title(feature)\n",
    "    \n",
    "    lines_labels = [ax.get_legend_handles_labels() for ax in fig.axes]\n",
    "    lines, labels = lines_labels[0]\n",
    "    fig.legend(lines, labels)\n",
    "\n",
    "fig.tight_layout()\n",
    "plt.show()"
   ]
  },
  {
   "cell_type": "code",
   "execution_count": 215,
   "id": "c9805ae5",
   "metadata": {},
   "outputs": [
    {
     "data": {
      "text/html": [
       "<div>\n",
       "<style scoped>\n",
       "    .dataframe tbody tr th:only-of-type {\n",
       "        vertical-align: middle;\n",
       "    }\n",
       "\n",
       "    .dataframe tbody tr th {\n",
       "        vertical-align: top;\n",
       "    }\n",
       "\n",
       "    .dataframe thead th {\n",
       "        text-align: right;\n",
       "    }\n",
       "</style>\n",
       "<table border=\"1\" class=\"dataframe\">\n",
       "  <thead>\n",
       "    <tr style=\"text-align: right;\">\n",
       "      <th></th>\n",
       "      <th>HeartDisease</th>\n",
       "      <th>BMI</th>\n",
       "      <th>Smoking</th>\n",
       "      <th>AlcoholDrinking</th>\n",
       "      <th>Stroke</th>\n",
       "      <th>PhysicalHealth</th>\n",
       "      <th>MentalHealth</th>\n",
       "      <th>DiffWalking</th>\n",
       "      <th>Sex</th>\n",
       "      <th>AgeCategory</th>\n",
       "      <th>Race</th>\n",
       "      <th>Diabetic</th>\n",
       "      <th>PhysicalActivity</th>\n",
       "      <th>GenHealth</th>\n",
       "      <th>SleepTime</th>\n",
       "      <th>Asthma</th>\n",
       "      <th>KidneyDisease</th>\n",
       "      <th>SkinCancer</th>\n",
       "    </tr>\n",
       "  </thead>\n",
       "  <tbody>\n",
       "    <tr>\n",
       "      <th>count</th>\n",
       "      <td>319795.000000</td>\n",
       "      <td>319795.000000</td>\n",
       "      <td>319795.000000</td>\n",
       "      <td>319795.000000</td>\n",
       "      <td>319795.000000</td>\n",
       "      <td>319795.00000</td>\n",
       "      <td>319795.000000</td>\n",
       "      <td>319795.000000</td>\n",
       "      <td>319795.000000</td>\n",
       "      <td>319795.000000</td>\n",
       "      <td>319795.000000</td>\n",
       "      <td>319795.000000</td>\n",
       "      <td>319795.000000</td>\n",
       "      <td>319795.000000</td>\n",
       "      <td>319795.000000</td>\n",
       "      <td>319795.000000</td>\n",
       "      <td>319795.000000</td>\n",
       "      <td>319795.000000</td>\n",
       "    </tr>\n",
       "    <tr>\n",
       "      <th>mean</th>\n",
       "      <td>0.085595</td>\n",
       "      <td>28.325399</td>\n",
       "      <td>0.412477</td>\n",
       "      <td>0.068097</td>\n",
       "      <td>0.037740</td>\n",
       "      <td>3.37171</td>\n",
       "      <td>3.898366</td>\n",
       "      <td>0.138870</td>\n",
       "      <td>0.475273</td>\n",
       "      <td>6.514536</td>\n",
       "      <td>4.396742</td>\n",
       "      <td>0.300386</td>\n",
       "      <td>0.775362</td>\n",
       "      <td>2.220904</td>\n",
       "      <td>6.097075</td>\n",
       "      <td>0.134061</td>\n",
       "      <td>0.036833</td>\n",
       "      <td>0.093244</td>\n",
       "    </tr>\n",
       "    <tr>\n",
       "      <th>std</th>\n",
       "      <td>0.279766</td>\n",
       "      <td>6.356100</td>\n",
       "      <td>0.492281</td>\n",
       "      <td>0.251912</td>\n",
       "      <td>0.190567</td>\n",
       "      <td>7.95085</td>\n",
       "      <td>7.955235</td>\n",
       "      <td>0.345812</td>\n",
       "      <td>0.499389</td>\n",
       "      <td>3.564759</td>\n",
       "      <td>1.212208</td>\n",
       "      <td>0.716480</td>\n",
       "      <td>0.417344</td>\n",
       "      <td>1.534647</td>\n",
       "      <td>1.436007</td>\n",
       "      <td>0.340718</td>\n",
       "      <td>0.188352</td>\n",
       "      <td>0.290775</td>\n",
       "    </tr>\n",
       "    <tr>\n",
       "      <th>min</th>\n",
       "      <td>0.000000</td>\n",
       "      <td>12.020000</td>\n",
       "      <td>0.000000</td>\n",
       "      <td>0.000000</td>\n",
       "      <td>0.000000</td>\n",
       "      <td>0.00000</td>\n",
       "      <td>0.000000</td>\n",
       "      <td>0.000000</td>\n",
       "      <td>0.000000</td>\n",
       "      <td>0.000000</td>\n",
       "      <td>0.000000</td>\n",
       "      <td>0.000000</td>\n",
       "      <td>0.000000</td>\n",
       "      <td>0.000000</td>\n",
       "      <td>0.000000</td>\n",
       "      <td>0.000000</td>\n",
       "      <td>0.000000</td>\n",
       "      <td>0.000000</td>\n",
       "    </tr>\n",
       "    <tr>\n",
       "      <th>25%</th>\n",
       "      <td>0.000000</td>\n",
       "      <td>24.030000</td>\n",
       "      <td>0.000000</td>\n",
       "      <td>0.000000</td>\n",
       "      <td>0.000000</td>\n",
       "      <td>0.00000</td>\n",
       "      <td>0.000000</td>\n",
       "      <td>0.000000</td>\n",
       "      <td>0.000000</td>\n",
       "      <td>4.000000</td>\n",
       "      <td>5.000000</td>\n",
       "      <td>0.000000</td>\n",
       "      <td>1.000000</td>\n",
       "      <td>1.000000</td>\n",
       "      <td>5.000000</td>\n",
       "      <td>0.000000</td>\n",
       "      <td>0.000000</td>\n",
       "      <td>0.000000</td>\n",
       "    </tr>\n",
       "    <tr>\n",
       "      <th>50%</th>\n",
       "      <td>0.000000</td>\n",
       "      <td>27.340000</td>\n",
       "      <td>0.000000</td>\n",
       "      <td>0.000000</td>\n",
       "      <td>0.000000</td>\n",
       "      <td>0.00000</td>\n",
       "      <td>0.000000</td>\n",
       "      <td>0.000000</td>\n",
       "      <td>0.000000</td>\n",
       "      <td>7.000000</td>\n",
       "      <td>5.000000</td>\n",
       "      <td>0.000000</td>\n",
       "      <td>1.000000</td>\n",
       "      <td>2.000000</td>\n",
       "      <td>6.000000</td>\n",
       "      <td>0.000000</td>\n",
       "      <td>0.000000</td>\n",
       "      <td>0.000000</td>\n",
       "    </tr>\n",
       "    <tr>\n",
       "      <th>75%</th>\n",
       "      <td>0.000000</td>\n",
       "      <td>31.420000</td>\n",
       "      <td>1.000000</td>\n",
       "      <td>0.000000</td>\n",
       "      <td>0.000000</td>\n",
       "      <td>2.00000</td>\n",
       "      <td>3.000000</td>\n",
       "      <td>0.000000</td>\n",
       "      <td>1.000000</td>\n",
       "      <td>9.000000</td>\n",
       "      <td>5.000000</td>\n",
       "      <td>0.000000</td>\n",
       "      <td>1.000000</td>\n",
       "      <td>4.000000</td>\n",
       "      <td>7.000000</td>\n",
       "      <td>0.000000</td>\n",
       "      <td>0.000000</td>\n",
       "      <td>0.000000</td>\n",
       "    </tr>\n",
       "    <tr>\n",
       "      <th>max</th>\n",
       "      <td>1.000000</td>\n",
       "      <td>94.850000</td>\n",
       "      <td>1.000000</td>\n",
       "      <td>1.000000</td>\n",
       "      <td>1.000000</td>\n",
       "      <td>30.00000</td>\n",
       "      <td>30.000000</td>\n",
       "      <td>1.000000</td>\n",
       "      <td>1.000000</td>\n",
       "      <td>12.000000</td>\n",
       "      <td>5.000000</td>\n",
       "      <td>3.000000</td>\n",
       "      <td>1.000000</td>\n",
       "      <td>4.000000</td>\n",
       "      <td>23.000000</td>\n",
       "      <td>1.000000</td>\n",
       "      <td>1.000000</td>\n",
       "      <td>1.000000</td>\n",
       "    </tr>\n",
       "  </tbody>\n",
       "</table>\n",
       "</div>"
      ],
      "text/plain": [
       "        HeartDisease            BMI        Smoking  AlcoholDrinking  \\\n",
       "count  319795.000000  319795.000000  319795.000000    319795.000000   \n",
       "mean        0.085595      28.325399       0.412477         0.068097   \n",
       "std         0.279766       6.356100       0.492281         0.251912   \n",
       "min         0.000000      12.020000       0.000000         0.000000   \n",
       "25%         0.000000      24.030000       0.000000         0.000000   \n",
       "50%         0.000000      27.340000       0.000000         0.000000   \n",
       "75%         0.000000      31.420000       1.000000         0.000000   \n",
       "max         1.000000      94.850000       1.000000         1.000000   \n",
       "\n",
       "              Stroke  PhysicalHealth   MentalHealth    DiffWalking  \\\n",
       "count  319795.000000    319795.00000  319795.000000  319795.000000   \n",
       "mean        0.037740         3.37171       3.898366       0.138870   \n",
       "std         0.190567         7.95085       7.955235       0.345812   \n",
       "min         0.000000         0.00000       0.000000       0.000000   \n",
       "25%         0.000000         0.00000       0.000000       0.000000   \n",
       "50%         0.000000         0.00000       0.000000       0.000000   \n",
       "75%         0.000000         2.00000       3.000000       0.000000   \n",
       "max         1.000000        30.00000      30.000000       1.000000   \n",
       "\n",
       "                 Sex    AgeCategory           Race       Diabetic  \\\n",
       "count  319795.000000  319795.000000  319795.000000  319795.000000   \n",
       "mean        0.475273       6.514536       4.396742       0.300386   \n",
       "std         0.499389       3.564759       1.212208       0.716480   \n",
       "min         0.000000       0.000000       0.000000       0.000000   \n",
       "25%         0.000000       4.000000       5.000000       0.000000   \n",
       "50%         0.000000       7.000000       5.000000       0.000000   \n",
       "75%         1.000000       9.000000       5.000000       0.000000   \n",
       "max         1.000000      12.000000       5.000000       3.000000   \n",
       "\n",
       "       PhysicalActivity      GenHealth      SleepTime         Asthma  \\\n",
       "count     319795.000000  319795.000000  319795.000000  319795.000000   \n",
       "mean           0.775362       2.220904       6.097075       0.134061   \n",
       "std            0.417344       1.534647       1.436007       0.340718   \n",
       "min            0.000000       0.000000       0.000000       0.000000   \n",
       "25%            1.000000       1.000000       5.000000       0.000000   \n",
       "50%            1.000000       2.000000       6.000000       0.000000   \n",
       "75%            1.000000       4.000000       7.000000       0.000000   \n",
       "max            1.000000       4.000000      23.000000       1.000000   \n",
       "\n",
       "       KidneyDisease     SkinCancer  \n",
       "count  319795.000000  319795.000000  \n",
       "mean        0.036833       0.093244  \n",
       "std         0.188352       0.290775  \n",
       "min         0.000000       0.000000  \n",
       "25%         0.000000       0.000000  \n",
       "50%         0.000000       0.000000  \n",
       "75%         0.000000       0.000000  \n",
       "max         1.000000       1.000000  "
      ]
     },
     "execution_count": 215,
     "metadata": {},
     "output_type": "execute_result"
    }
   ],
   "source": [
    "hd_prep.describe() #max bmi is 94.85, very interesting "
   ]
  },
  {
   "cell_type": "code",
   "execution_count": 170,
   "id": "dd6fb5a7",
   "metadata": {},
   "outputs": [],
   "source": [
    "nm = hd['AgeCategory'].value_counts()\n",
    "# dummy_tab = pd.crosstab(index=hd_prep['AgeCategory'], columns='freq')\n",
    "# dummy_tab\n",
    "# hd['AgeCategory'].unique() Used to quickly get labels for bottom plot\n",
    "# for i in hd_prep['AgeCategory'].unique():\n",
    "#     print(i)"
   ]
  },
  {
   "cell_type": "code",
   "execution_count": 131,
   "id": "2c544684",
   "metadata": {},
   "outputs": [
    {
     "data": {
      "image/png": "[encoded data removed]",
      "text/plain": [
       "<Figure size 432x288 with 1 Axes>"
      ]
     },
     "metadata": {
      "needs_background": "light"
     },
     "output_type": "display_data"
    }
   ],
   "source": [
    "nm.plot(kind='bar', color='darksalmon')\n",
    "plt.ylim([0, 40000])\n",
    "plt.title('Freqency Per Age Range')\n",
    "plt.ylabel('Count')\n",
    "plt.xlabel('Age Range')\n",
    "fig.tight_layout()\n",
    "plt.show()"
   ]
  },
  {
   "cell_type": "code",
   "execution_count": 141,
   "id": "dcbf112e",
   "metadata": {},
   "outputs": [
    {
     "data": {
      "text/plain": [
       "80 or older    5449\n",
       "70-74          4847\n",
       "65-69          4101\n",
       "75-79          4049\n",
       "60-64          3327\n",
       "55-59          2202\n",
       "50-54          1383\n",
       "45-49           744\n",
       "40-44           486\n",
       "35-39           296\n",
       "30-34           226\n",
       "25-29           133\n",
       "18-24           130\n",
       "Name: AgeCategory, dtype: int64"
      ]
     },
     "execution_count": 141,
     "metadata": {},
     "output_type": "execute_result"
    }
   ],
   "source": [
    "hd[hd['HeartDisease']=='Yes']['AgeCategory'].value_counts()"
   ]
  },
  {
   "cell_type": "code",
   "execution_count": 145,
   "id": "d29bda78",
   "metadata": {},
   "outputs": [
    {
     "data": {
      "text/plain": [
       "HeartDisease  AgeCategory\n",
       "Yes           18-24          0.000407\n",
       "              25-29          0.000416\n",
       "              30-34          0.000707\n",
       "              35-39          0.000926\n",
       "              40-44          0.001520\n",
       "              45-49          0.002326\n",
       "              50-54          0.004325\n",
       "              55-59          0.006886\n",
       "              60-64          0.010404\n",
       "              75-79          0.012661\n",
       "              65-69          0.012824\n",
       "              70-74          0.015157\n",
       "              80 or older    0.017039\n",
       "No            25-29          0.052602\n",
       "              75-79          0.054513\n",
       "              30-34          0.057934\n",
       "              80 or older    0.058487\n",
       "              35-39          0.063334\n",
       "              40-44          0.064166\n",
       "              18-24          0.065461\n",
       "              45-49          0.065814\n",
       "              50-54          0.075045\n",
       "              70-74          0.081984\n",
       "              55-59          0.086165\n",
       "              65-69          0.093966\n",
       "              60-64          0.094933\n",
       "dtype: float64"
      ]
     },
     "execution_count": 145,
     "metadata": {},
     "output_type": "execute_result"
    }
   ],
   "source": [
    "hd[['HeartDisease','AgeCategory']].value_counts(normalize=True).sort_values()"
   ]
  },
  {
   "cell_type": "code",
   "execution_count": 172,
   "id": "73a83106",
   "metadata": {},
   "outputs": [
    {
     "data": {
      "image/png": "[encoded data removed]",
      "text/plain": [
       "<Figure size 432x288 with 1 Axes>"
      ]
     },
     "metadata": {
      "needs_background": "light"
     },
     "output_type": "display_data"
    }
   ],
   "source": [
    "# sns.lmplot(x=\"AgeCategory\", y=\"HeartDisease\", data=hd_prep, logistic=True)\n",
    "# plt.show()\n",
    "sns.regplot(x='AgeCategory', y='HeartDisease', data=hd_prep, logistic=True, ci=None, line_kws={'color': 'darksalmon'})\n",
    "plt.title('Logistic Curve of Heart Disease vs Age')\n",
    "plt.show()\n"
   ]
  },
  {
   "cell_type": "code",
   "execution_count": 206,
   "id": "8d76c486",
   "metadata": {},
   "outputs": [],
   "source": [
    "hd_prep.to_csv('~/Desktop/Internships/HeartDisease_clean.csv', index=False)\n",
    "# random = pd.read_csv('HeartDisease_clean.csv')"
   ]
  },
  {
   "cell_type": "markdown",
   "id": "2c1bef14",
   "metadata": {},
   "source": [
    "<hr>\n",
    "<h2 style='color:darksalmon'><u>Basic Predictive Modeling:</u></h2>"
   ]
  },
  {
   "cell_type": "code",
   "execution_count": 236,
   "id": "24d459f6",
   "metadata": {},
   "outputs": [],
   "source": [
    "from sklearn.model_selection import train_test_split\n",
    "x, y = hd_prep.loc[:, hd_prep.columns != 'HeartDisease'], hd_prep['HeartDisease']\n",
    "x_train, x_test,y_train,y_test = train_test_split(x,y,test_size=0.80,random_state=42)"
   ]
  },
  {
   "cell_type": "markdown",
   "id": "1739d459",
   "metadata": {},
   "source": [
    "<h4 style='color:darksalmon'><u>Logistic Regression:</u></h4>"
   ]
  },
  {
   "cell_type": "code",
   "execution_count": 231,
   "id": "755a1544",
   "metadata": {},
   "outputs": [
    {
     "name": "stdout",
     "output_type": "stream",
     "text": [
      "Accuracy :  0.9148165230851014 \n",
      "RMSE:  0.291862085435739\n"
     ]
    }
   ],
   "source": [
    "import warnings; warnings.simplefilter('ignore')\n",
    "from sklearn.linear_model import LogisticRegression\n",
    "from sklearn.metrics import accuracy_score, mean_squared_error\n",
    "classifier = LogisticRegression(random_state = 42)\n",
    "classifier.fit(x_train, y_train)\n",
    "y_pred = classifier.predict(X_test)\n",
    "print (\"Accuracy : \", accuracy_score(y_test, y_pred), \"\\nRMSE: \", mean_squared_error(y_test, y_pred, squared=False))"
   ]
  },
  {
   "cell_type": "markdown",
   "id": "415eef17",
   "metadata": {},
   "source": [
    "<h4 style='color:darksalmon'><u>Naive Bayes:</u></h4>"
   ]
  },
  {
   "cell_type": "code",
   "execution_count": 242,
   "id": "dcb685d6",
   "metadata": {},
   "outputs": [
    {
     "name": "stdout",
     "output_type": "stream",
     "text": [
      "Accuracy: 0.8456354852327272 \n",
      "RMSE:  0.3928924977233248\n"
     ]
    }
   ],
   "source": [
    "from sklearn.naive_bayes import GaussianNB\n",
    "\n",
    "#Create a Gaussian Classifier\n",
    "gnb = GaussianNB()\n",
    "\n",
    "#Train the model using the training sets\n",
    "gnb.fit(x_train, y_train)\n",
    "\n",
    "#Predict the response for test dataset\n",
    "y_pred = gnb.predict(x_test)\n",
    "print(\"Accuracy:\", accuracy_score(y_test, y_pred),\"\\nRMSE: \", mean_squared_error(y_test, y_pred, squared=False))"
   ]
  },
  {
   "cell_type": "markdown",
   "id": "8c5b39f4",
   "metadata": {},
   "source": [
    "<h4 style='color:darksalmon'><u>Decision Tree:</u></h4>"
   ]
  },
  {
   "cell_type": "code",
   "execution_count": 248,
   "id": "a2c0d147",
   "metadata": {},
   "outputs": [
    {
     "name": "stdout",
     "output_type": "stream",
     "text": [
      "Accuracy: 0.862247689926359 \n",
      "RMSE:  0.37114998325965326\n"
     ]
    }
   ],
   "source": [
    "from sklearn.tree import DecisionTreeClassifier \n",
    "tree = DecisionTreeClassifier(random_state=42)\n",
    "\n",
    "# # Training\n",
    "tree = tree.fit(x_train, y_train)\n",
    "\n",
    "# #Predict the response for test dataset\n",
    "y_pred = tree.predict(X_test)\n",
    "print(\"Accuracy:\", accuracy_score(y_test, y_pred),\"\\nRMSE: \", mean_squared_error(y_test, y_pred, squared=False))"
   ]
  },
  {
   "cell_type": "markdown",
   "id": "4e7d8a30",
   "metadata": {},
   "source": [
    "\n",
    "<p><b>Find the indepth choice of Logistic Regression in the Rmarkdown pdf:</b>\n",
    "<br>\n",
    " <a href=\"https://github.com/KevinT-13/Prediction-Models/blob/main/HeartDisease_model.pdf\" target=\"_blank\">LogisticModel_R</a></p>"
   ]
  },
  {
   "cell_type": "code",
   "execution_count": 1,
   "id": "62da6d9a",
   "metadata": {},
   "outputs": [
    {
     "data": {
      "text/html": [
       "\n",
       "        <iframe\n",
       "            width=\"600\"\n",
       "            height=\"300\"\n",
       "            src=\"HeartDisease_model.pdf\"\n",
       "            frameborder=\"0\"\n",
       "            allowfullscreen\n",
       "            \n",
       "        ></iframe>\n",
       "        "
      ],
      "text/plain": [
       "<IPython.lib.display.IFrame at 0x7fa0b53ac040>"
      ]
     },
     "execution_count": 1,
     "metadata": {},
     "output_type": "execute_result"
    }
   ],
   "source": [
    "from IPython.display import IFrame\n",
    "IFrame(\"HeartDisease_model.pdf\", width=600, height=300)"
   ]
  },
  {
   "cell_type": "code",
   "execution_count": null,
   "id": "d616a4b2",
   "metadata": {},
   "outputs": [],
   "source": []
  }
 ],
 "metadata": {
  "kernelspec": {
   "display_name": "Python 3 (ipykernel)",
   "language": "python",
   "name": "python3"
  },
  "language_info": {
   "codemirror_mode": {
    "name": "ipython",
    "version": 3
   },
   "file_extension": ".py",
   "mimetype": "text/x-python",
   "name": "python",
   "nbconvert_exporter": "python",
   "pygments_lexer": "ipython3",
   "version": "3.8.12"
  }
 },
 "nbformat": 4,
 "nbformat_minor": 5
}
